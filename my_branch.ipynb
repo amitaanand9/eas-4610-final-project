{
 "cells": [
  {
   "cell_type": "code",
   "execution_count": 11,
   "id": "f11a4c96",
   "metadata": {},
   "outputs": [],
   "source": [
    "import numpy as np\n",
    "import climlab #package used to calculate daily insolation over time\n",
    "from climlab.solar.orbital import OrbitalTable\n",
    "from climlab.solar.insolation import daily_insolation\n",
    "\n",
    "#we want to calculate a difference vector \n",
    "\n",
    "#timesteping \n",
    "t_i = 0\n",
    "t_f = -700000 #run model for 700,000 years \n",
    "d_t = 100 #use time step of 100 years\n",
    "t = np.arange(t_f, t_i+1, 500)\n",
    "t_kyr = (t/(1000)) # years in kyr\n",
    "\n",
    "#grid spacing\n",
    "x_i = 30 #30 degrees North latitude\n",
    "x_f = 74 #74 degrees North latitude\n",
    "d_x = 0.5 #0.5 degrees as spacial step equiv to 55km\n",
    "x = np.arange(x_i, x_f+.5, d_x)\n",
    "\n",
    "days = np.linspace(1.,50.)/50 * 365.24\n",
    "orb = OrbitalTable.interp(kyear=t_kyr )\n",
    "\n",
    "Q = daily_insolation(x, days, orb) #calculate daily insolation per every 500 years based on orbit parameters\n",
    "\n",
    "\n",
    "\n"
   ]
  },
  {
   "cell_type": "code",
   "execution_count": 13,
   "id": "1f75787b",
   "metadata": {},
   "outputs": [
    {
     "name": "stdout",
     "output_type": "stream",
     "text": [
      "(89, 50, 1401)\n",
      "[[225.70337366 234.8699001  246.57336779 ... 213.88183356 215.22210087\n",
      "  219.14815878]\n",
      " [222.42573375 231.60463996 243.33787114 ... 210.64334097 211.95988801\n",
      "  215.87235944]\n",
      " [219.13898788 228.32887653 240.09008747 ... 207.39721536 208.69002086\n",
      "  212.58841363]\n",
      " ...\n",
      " [  0.           0.           0.         ...   0.           0.\n",
      "    0.        ]\n",
      " [  0.           0.           0.         ...   0.           0.\n",
      "    0.        ]\n",
      " [  0.           0.           0.         ...   0.           0.\n",
      "    0.        ]]\n"
     ]
    }
   ],
   "source": [
    "print(Q.shape)\n",
    "\n",
    "\n"
   ]
  }
 ],
 "metadata": {
  "kernelspec": {
   "display_name": "new_env",
   "language": "python",
   "name": "python3"
  },
  "language_info": {
   "codemirror_mode": {
    "name": "ipython",
    "version": 3
   },
   "file_extension": ".py",
   "mimetype": "text/x-python",
   "name": "python",
   "nbconvert_exporter": "python",
   "pygments_lexer": "ipython3",
   "version": "3.8.20"
  }
 },
 "nbformat": 4,
 "nbformat_minor": 5
}
