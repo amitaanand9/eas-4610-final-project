{
 "cells": [
  {
   "cell_type": "markdown",
   "id": "937b76bb",
   "metadata": {},
   "source": [
    "# Glacial Cycles (Pollard 1982)\n",
    "## Amita and Miriam"
   ]
  },
  {
   "cell_type": "markdown",
   "id": "5843120c",
   "metadata": {},
   "source": [
    "### Introduction\n",
    "Ice sheet dynamics is central to understanding Earth's history and future, especially given rising global temperatures. Melting of ice sheets contributes directly to sea level changes which has negative impacts on many communities and wildlife. However, the long term dynamics of ice sheet melt and formation, caused by changes in Earth's orbit, have facinating effects. Understanding the long term dynamics well allows us to distinguish expected behavior from abnormal melting. <br>\n",
    "\n",
    "##### Milankovich Cycles\n",
    "source: https://science.nasa.gov/science-research/earth-science/milankovitch-orbital-cycles-and-their-role-in-earths-climate/ <br>\n",
    "Milankovich cycles are small perterbations in Earth's orbit that change the total level of sunlight the planet recieves. The main parameters are eccentricity, or the shape of the orbit, obliquity, or the angle of tilt of Earth's axis, and precession, the direction Earth's axis of rotation is pointed. These three variations occur at well known intervals which align with past ice ages, confirmed from ice core data. (Pollard 1982). The main cycles occur in intervals of 20, 40, and 100 kyr. Previous models have captures the 20 and 40 kyr cycles but failed to capture the 100 kyr cycle. The 100 kyr cycle is especially prevelant in Northern Hemisphere ice sheets which is the focus of this paper. \n",
    "\n",
    "##### Previous Work\n"
   ]
  },
  {
   "cell_type": "markdown",
   "id": "57f219ba",
   "metadata": {},
   "source": [
    "### Equations\n",
    "The thickness, $H$ of an ice sheet over time can be modeled with a nonlinear diffusion equation:\n",
    "$$ \\frac{\\partial H}{\\partial t} = A \\frac{\\partial}{\\partial x} \\left[H^{\\alpha}\\left| \\frac{\\partial(H + h)}{\\partial x}^{\\beta}\\right|\\frac{\\partial(H + h)}{\\partial x}\\right] + G(H + h, x, \\text{orbit})$$ \n",
    "\n",
    "$t$: time <br>\n",
    "$x$: distance to the south <br>\n",
    "$h$: the elevation of the bedrock surface above a fixed reference level (taken as the present mean sea level) <br>\n",
    "\n",
    "For this model, the bedrock will always be in isostatic equilibrium with the ice load so $h = -rH$, where r is the ice/rock density ratio. <br>\n",
    "\n",
    "For this model,<br>\n",
    "$A = 5.77\\times10^{-4} \\text{m}^{-3}\\text{yr}^{-1}$<br>\n",
    "$\\alpha = 5$<br>\n",
    "$\\beta = 2$<br> \n",
    "$r = 0.3$<br>\n",
    "\n",
    "$G$ is the net annual mass balance on the ice sheet surface, depending on snowfall and ice melt, and is given by<br>\n",
    "\n",
    "$$ G = \\begin{cases}\n",
    "a(h+h' -E) - b(h+h'-E)^2 & h+h' - E \\leq 1500 \\text{ m} \\\\\n",
    "0.56 & h+h' - E > 1500 \\text{ m}\n",
    "\\end{cases} \\text{     m yr}^{-1} $$\n",
    "where $E$ is defined \n",
    "$$E = E_0(x) + k \\Delta Q$$\n",
    "$E_0(x)$: the present equlibrium line<br>\n",
    "$k$: insolation sensitivity <br>\n",
    "$\\Delta Q$: is the difference in the summer half-year insolation at $55 \\degree$ N from that of the present <br>"
   ]
  },
  {
   "cell_type": "markdown",
   "id": "8f23e7b8",
   "metadata": {},
   "source": [
    "##### Boundary Conditions & Initial Conditons\n",
    "To find the boundary conditions, we assume the cross-section of the ice sheet is a rectangle with length  $4889 \\text{ km}$ (the distance between model boundaries of $30 \\degree$ N and $74 \\degree$ N). The height is calculated by dividing the given ice sheet cross-sectional area from Pollard by the length of the ice sheet. When $t = 700$ (700,000 years ago), the ice sheet cross sectional area is $4.5 \\times 10^9 \\text{ m}^2$. Thus the height of the ice sheet is $920.43 \\text{ m}$. Repeating the calculations for the other boundary, at $t = 0$ (present day), the cross-sectional area is $3.5 \\times 10^9 \\text{ m}^2$ so the height is $715.89 \\text{ m}$ "
   ]
  },
  {
   "cell_type": "markdown",
   "id": "a125e18c",
   "metadata": {},
   "source": [
    "##### Assumptions"
   ]
  },
  {
   "cell_type": "markdown",
   "id": "b11cb358",
   "metadata": {},
   "source": [
    "* What are the fundamental physical/chemical/etc. processes? \n",
    "* Relevant equations and potentially where they come from (i.e. how are they derived)\n",
    "* Describe all terms, parameters, boundary conditions and initial conditions \n",
    "* Describe any assumptions being made"
   ]
  },
  {
   "cell_type": "markdown",
   "id": "989b6716",
   "metadata": {},
   "source": [
    "### Numerical methods"
   ]
  },
  {
   "cell_type": "markdown",
   "id": "f4605c0d",
   "metadata": {},
   "source": [
    "* Describe the numerical methods used.\n",
    "* Why did you choose to use these methods\n",
    "* Code works as intended"
   ]
  },
  {
   "cell_type": "markdown",
   "id": "57a13fc8",
   "metadata": {},
   "source": []
  },
  {
   "cell_type": "code",
   "execution_count": null,
   "id": "1dd49be8",
   "metadata": {
    "vscode": {
     "languageId": "plaintext"
    }
   },
   "outputs": [],
   "source": []
  },
  {
   "cell_type": "markdown",
   "id": "ad21a392",
   "metadata": {},
   "source": [
    "### Results"
   ]
  },
  {
   "cell_type": "markdown",
   "id": "f682610f",
   "metadata": {},
   "source": [
    "* What simulations did you run with the model?\n",
    "* Describe the results.\n",
    "* How do the results compare with any known solutions, or data?\n",
    "* How do the results change with different methods, time steps, grid spacing, or model parameters?\n",
    "* What did the model tell you about the process you were studying?\n",
    "* How could the model be improved in terms of methods used or processes included?"
   ]
  }
 ],
 "metadata": {
  "kernelspec": {
   "display_name": "Python 3 (ipykernel)",
   "language": "python",
   "name": "python3"
  },
  "language_info": {
   "codemirror_mode": {
    "name": "ipython",
    "version": 3
   },
   "file_extension": ".py",
   "mimetype": "text/x-python",
   "name": "python",
   "nbconvert_exporter": "python",
   "pygments_lexer": "ipython3",
   "version": "3.12.2"
  }
 },
 "nbformat": 4,
 "nbformat_minor": 5
}
