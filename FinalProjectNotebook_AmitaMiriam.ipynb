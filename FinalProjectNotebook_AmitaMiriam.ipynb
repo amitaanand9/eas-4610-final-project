{
 "cells": [
  {
   "cell_type": "markdown",
   "id": "5843120c",
   "metadata": {},
   "source": [
    "#### Introduction"
   ]
  },
  {
   "cell_type": "markdown",
   "id": "57f219ba",
   "metadata": {},
   "source": [
    "#### Equations"
   ]
  },
  {
   "cell_type": "markdown",
   "id": "989b6716",
   "metadata": {},
   "source": [
    "#### Numerical methods"
   ]
  },
  {
   "cell_type": "markdown",
   "id": "ad21a392",
   "metadata": {},
   "source": [
    "#### Results"
   ]
  }
 ],
 "metadata": {
  "kernelspec": {
   "display_name": "Python 3 (ipykernel)",
   "language": "python",
   "name": "python3"
  },
  "language_info": {
   "codemirror_mode": {
    "name": "ipython",
    "version": 3
   },
   "file_extension": ".py",
   "mimetype": "text/x-python",
   "name": "python",
   "nbconvert_exporter": "python",
   "pygments_lexer": "ipython3",
   "version": "3.12.2"
  }
 },
 "nbformat": 4,
 "nbformat_minor": 5
}
