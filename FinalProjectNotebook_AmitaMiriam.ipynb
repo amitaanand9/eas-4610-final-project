{
 "cells": [
  {
   "cell_type": "markdown",
   "id": "937b76bb",
   "metadata": {},
   "source": [
    "# Glacial Cycles (Pollard 1982)\n",
    "## Amita and Miriam"
   ]
  },
  {
   "cell_type": "markdown",
   "id": "5843120c",
   "metadata": {},
   "source": [
    "### Introduction\n",
    "Ice sheet dynamics is central to understanding Earth's history and future, especially given rising global temperatures. Melting of ice sheets contributes directly to sea level changes which has negative impacts on many communities and wildlife. However, the long term dynamics of ice sheet melt and formation, caused by changes in Earth's orbit, have facinating effects. Understanding the long term dynamics well allows us to distinguish expected behavior from abnormal melting. <br>\n",
    "\n",
    "##### Milankovich Cycles\n",
    "source: https://science.nasa.gov/science-research/earth-science/milankovitch-orbital-cycles-and-their-role-in-earths-climate/ <br>\n",
    "Milankovich cycles are small perterbations in Earth's orbit that change the total level of sunlight the planet recieves. The main parameters are eccentricity, or the shape of the orbit, obliquity, or the angle of tilt of Earth's axis, and precession, the direction Earth's axis of rotation is pointed. These three variations occur at well known intervals which align with past ice ages, confirmed from ice core data. (Pollard 1982). The main cycles occur in intervals of 20, 40, and 100 kyr. Previous models have captures the 20 and 40 kyr cycles but failed to capture the 100 kyr cycle. The 100 kyr cycle is especially prevelant in Northern Hemisphere ice sheets which is the focus of this paper. \n",
    "\n",
    "##### Previous Work\n"
   ]
  },
  {
   "cell_type": "markdown",
   "id": "57f219ba",
   "metadata": {},
   "source": [
    "### Equations\n",
    "The thickness, $H$ of an ice sheet over time can be modeled with a nonlinear diffusion equation:\n",
    "$$ \\frac{dH}{dt} $$\n"
   ]
  },
  {
   "cell_type": "markdown",
   "id": "b11cb358",
   "metadata": {},
   "source": [
    "* What are the fundamental physical/chemical/etc. processes? \n",
    "* Relevant equations and potentially where they come from (i.e. how are they derived)\n",
    "* Describe all terms, parameters, boundary conditions and initial conditions \n",
    "* Describe any assumptions being made"
   ]
  },
  {
   "cell_type": "markdown",
   "id": "989b6716",
   "metadata": {},
   "source": [
    "### Numerical methods"
   ]
  },
  {
   "cell_type": "markdown",
   "id": "f4605c0d",
   "metadata": {},
   "source": [
    "* Describe the numerical methods used.\n",
    "* Why did you choose to use these methods\n",
    "* Code works as intended"
   ]
  },
  {
   "cell_type": "markdown",
   "id": "ad21a392",
   "metadata": {},
   "source": [
    "### Results"
   ]
  },
  {
   "cell_type": "markdown",
   "id": "f682610f",
   "metadata": {},
   "source": [
    "* What simulations did you run with the model?\n",
    "* Describe the results.\n",
    "* How do the results compare with any known solutions, or data?\n",
    "* How do the results change with different methods, time steps, grid spacing, or model parameters?\n",
    "* What did the model tell you about the process you were studying?\n",
    "* How could the model be improved in terms of methods used or processes included?"
   ]
  }
 ],
 "metadata": {
  "kernelspec": {
   "display_name": "Python 3 (ipykernel)",
   "language": "python",
   "name": "python3"
  },
  "language_info": {
   "codemirror_mode": {
    "name": "ipython",
    "version": 3
   },
   "file_extension": ".py",
   "mimetype": "text/x-python",
   "name": "python",
   "nbconvert_exporter": "python",
   "pygments_lexer": "ipython3",
   "version": "3.12.2"
  }
 },
 "nbformat": 4,
 "nbformat_minor": 5
}
