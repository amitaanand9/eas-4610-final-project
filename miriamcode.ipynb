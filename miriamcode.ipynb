{
 "cells": [
  {
   "cell_type": "code",
   "execution_count": 16,
   "id": "ce748317",
   "metadata": {},
   "outputs": [],
   "source": [
    "import climate_utils as clim\n",
    "#import orbital "
   ]
  },
  {
   "cell_type": "code",
   "execution_count": 2,
   "id": "b430025b",
   "metadata": {},
   "outputs": [],
   "source": [
    "# constants\n",
    "A = 5.77e-4 #meters^-3 years^-1\n",
    "alpha = 5\n",
    "beta = 2\n",
    "a = 0.81e-3 #years^-1\n",
    "b = 0.3e-6 #meters^-3 years^-1\n",
    "k = 25 #insolation sensitivity, meter light-years^-1 day"
   ]
  },
  {
   "cell_type": "code",
   "execution_count": 3,
   "id": "393d0f2f",
   "metadata": {},
   "outputs": [],
   "source": [
    "# present equilibrium line \n",
    "def E0(x):\n",
    "    return (9e-4 * x) - (6.57e-2)"
   ]
  },
  {
   "cell_type": "code",
   "execution_count": null,
   "id": "0e3c8184",
   "metadata": {},
   "outputs": [],
   "source": []
  }
 ],
 "metadata": {
  "kernelspec": {
   "display_name": "Python 3 (ipykernel)",
   "language": "python",
   "name": "python3"
  },
  "language_info": {
   "codemirror_mode": {
    "name": "ipython",
    "version": 3
   },
   "file_extension": ".py",
   "mimetype": "text/x-python",
   "name": "python",
   "nbconvert_exporter": "python",
   "pygments_lexer": "ipython3",
   "version": "3.12.2"
  }
 },
 "nbformat": 4,
 "nbformat_minor": 5
}
