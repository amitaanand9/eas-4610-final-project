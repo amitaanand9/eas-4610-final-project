{
 "cells": [
  {
   "cell_type": "markdown",
   "id": "ec6ecd0c",
   "metadata": {},
   "source": [
    "#### Introduction"
   ]
  },
  {
   "cell_type": "markdown",
   "id": "47a33c83",
   "metadata": {},
   "source": [
    "* What is the main theme? Why is it important?\n",
    "* What observations, models, etc are used by others that are different from what you are doing in the project."
   ]
  },
  {
   "cell_type": "markdown",
   "id": "71ae0386",
   "metadata": {},
   "source": [
    "#### Equations"
   ]
  },
  {
   "cell_type": "markdown",
   "id": "3e9c056b",
   "metadata": {},
   "source": [
    "* What are the fundamental physical/chemical/etc. processes? \n",
    "* Relevant equations and potentially where they come from (i.e. how are they derived)\n",
    "* Describe all terms, parameters, boundary conditions and initial conditions \n",
    "* Describe any assumptions being made"
   ]
  },
  {
   "cell_type": "code",
   "execution_count": 16,
   "id": "ce748317",
   "metadata": {},
   "outputs": [],
   "source": [
    "import climate_utils as clim\n",
    "#import orbital s"
   ]
  },
  {
   "cell_type": "code",
   "execution_count": 2,
   "id": "b430025b",
   "metadata": {},
   "outputs": [],
   "source": [
    "# constants\n",
    "A = 5.77e-4 #meters^-3 years^-1\n",
    "alpha = 5\n",
    "beta = 2\n",
    "a = 0.81e-3 #years^-1\n",
    "b = 0.3e-6 #meters^-3 years^-1\n",
    "k = 25 #insolation sensitivity, meter light-years^-1 day"
   ]
  },
  {
   "cell_type": "code",
   "execution_count": 3,
   "id": "393d0f2f",
   "metadata": {},
   "outputs": [],
   "source": [
    "# present equilibrium line \n",
    "def E0(x):\n",
    "    return (9e-4 * x) - (6.57e-2)"
   ]
  },
  {
   "cell_type": "markdown",
   "id": "f95b81f0",
   "metadata": {},
   "source": [
    "#### Numerical Methods"
   ]
  },
  {
   "cell_type": "markdown",
   "id": "6b4075af",
   "metadata": {},
   "source": [
    "* Describe the numerical methods used.\n",
    "* Why did you choose to use these methods\n",
    "* Code works as intended"
   ]
  },
  {
   "cell_type": "markdown",
   "id": "626dc061",
   "metadata": {},
   "source": [
    "#### Results"
   ]
  },
  {
   "cell_type": "markdown",
   "id": "8acdae7f",
   "metadata": {},
   "source": [
    "* What simulations did you run with the model?\n",
    "* Describe the results.\n",
    "* How do the results compare with any known solutions, or data?\n",
    "* How do the results change with different methods, time steps, grid spacing, or model parameters?\n",
    "* What did the model tell you about the process you were studying?\n",
    "* How could the model be improved in terms of methods used or processes included?\n"
   ]
  }
 ],
 "metadata": {
  "kernelspec": {
   "display_name": "Python 3 (ipykernel)",
   "language": "python",
   "name": "python3"
  },
  "language_info": {
   "codemirror_mode": {
    "name": "ipython",
    "version": 3
   },
   "file_extension": ".py",
   "mimetype": "text/x-python",
   "name": "python",
   "nbconvert_exporter": "python",
   "pygments_lexer": "ipython3",
   "version": "3.12.2"
  }
 },
 "nbformat": 4,
 "nbformat_minor": 5
}
